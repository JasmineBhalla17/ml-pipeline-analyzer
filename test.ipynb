{
 "cells": [
  {
   "cell_type": "code",
   "execution_count": 1,
   "metadata": {},
   "outputs": [],
   "source": [
    "from mlpipeline_analyzer import PipelineDiagram\n",
    "from sklearn.svm import SVC\n",
    "from sklearn.pipeline import *\n",
    "from sklearn.preprocessing import *\n",
    "from sklearn.discriminant_analysis import *\n",
    "from sklearn.impute import *\n",
    "from sklearn.feature_selection import RFE\n",
    "from sklearn.decomposition import PCA\n",
    "from sklearn.ensemble import RandomForestClassifier, GradientBoostingClassifier, VotingClassifier\n",
    "import numpy as np\n",
    "\n",
    "def sum(set=1):\n",
    "    s = 'Hello'*set\n",
    "    return\n",
    "    \n",
    "model = SVC(C=1.0, kernel='poly', degree=5, gamma='scale')\n",
    "pipeline = Pipeline([('custom',sum(set=10)), ('labelencoder',LabelEncoder()), #-- Pipe Transformer 1\n",
    "                     (\"imputer\", SimpleImputer(missing_values=np.nan, strategy='mean')), #-- Pipe Transformer 2\n",
    "                     ('scale', FeatureUnion([\n",
    "                ('minmax', MinMaxScaler()),    #-- Parallel Transformer 3\n",
    "                ('standardscaler', StandardScaler()),  #-- Parallel Transformer 4\n",
    "                ('normalize', Normalizer())])),#-- Parallel Transformer 5\n",
    "                     ('feature_select', RFE(estimator = model, n_features_to_select=1)), #-- Pipe Transformer 6\n",
    "                     ('PCA', PCA(n_components=1)), #-- Pipe Transformer 7\n",
    "            (\"LDA\", LinearDiscriminantAnalysis()), #-- Pipe Transformer 8\n",
    "            #('classifier', model), \t      #-- Pipe Classifier/Predictor 9\n",
    "('voting', RandomForestClassifier(n_estimators=10))]) \t      #-- Pipe Classifier/Predictor 10\n",
    "   #[('RF', RandomForestClassifier(n_estimators=30)), ('GradientBoosting', GradientBoostingClassifier())], #-- Pipe Classifier/Predictor 9'\n",
    "   "
   ]
  },
  {
   "cell_type": "code",
   "execution_count": 2,
   "metadata": {},
   "outputs": [
    {
     "data": {
      "text/plain": [
       "<mlpipeline_analyzer.visualizer.PipelineDiagram.PipelineDiagram at 0x26e4f032850>"
      ]
     },
     "execution_count": 2,
     "metadata": {},
     "output_type": "execute_result"
    }
   ],
   "source": [
    "a = PipelineDiagram(pipeline)\n",
    "a.show()\n",
    "a.show_params()"
   ]
  }
 ],
 "metadata": {
  "interpreter": {
   "hash": "2602d35bf45e5a21f7fcd63070615fa2c14a85edb77c6a8f46663af732603194"
  },
  "kernelspec": {
   "display_name": "Python 3.8.8 64-bit ('base': conda)",
   "language": "python",
   "name": "python3"
  },
  "language_info": {
   "codemirror_mode": {
    "name": "ipython",
    "version": 3
   },
   "file_extension": ".py",
   "mimetype": "text/x-python",
   "name": "python",
   "nbconvert_exporter": "python",
   "pygments_lexer": "ipython3",
   "version": "3.8.8"
  },
  "orig_nbformat": 4
 },
 "nbformat": 4,
 "nbformat_minor": 2
}
