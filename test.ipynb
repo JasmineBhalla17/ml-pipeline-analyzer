{
 "cells": [
  {
   "cell_type": "code",
   "execution_count": 1,
   "metadata": {},
   "outputs": [
    {
     "name": "stderr",
     "output_type": "stream",
     "text": [
      "pandas.Int64Index is deprecated and will be removed from pandas in a future version. Use pandas.Index with the appropriate dtype instead.\n",
      "pandas.Float64Index is deprecated and will be removed from pandas in a future version. Use pandas.Index with the appropriate dtype instead.\n"
     ]
    },
    {
     "data": {
      "text/plain": [
       "['models/ml_pipeline.pkl']"
      ]
     },
     "execution_count": 1,
     "metadata": {},
     "output_type": "execute_result"
    }
   ],
   "source": [
    "from mlpipeline_analyzer import PipelineDiagram\n",
    "from sklearn.svm import SVC\n",
    "from sklearn.pipeline import *\n",
    "from sklearn.preprocessing import *\n",
    "from sklearn.discriminant_analysis import *\n",
    "from sklearn.impute import *\n",
    "from sklearn.feature_selection import RFE\n",
    "from sklearn.decomposition import PCA\n",
    "from sklearn.ensemble import RandomForestClassifier, GradientBoostingClassifier, VotingClassifier\n",
    "import numpy as np\n",
    "import joblib\n",
    "import pickle\n",
    "\n",
    "def custom_function(set=1):\n",
    "    s = 'Hello'*set\n",
    "    return\n",
    "    \n",
    "model = SVC(C=1.0, kernel='poly', degree=5, gamma='scale')\n",
    "sklearn_pipeline = Pipeline([('custom',custom_function(set=10)), ('labelencoder',LabelEncoder()), #-- Pipe Transformer 1\n",
    "                     (\"imputer\", SimpleImputer(missing_values=np.nan, strategy='mean')), #-- Pipe Transformer 2\n",
    "                     ('scale', FeatureUnion([\n",
    "                ('minmax', MinMaxScaler()),    #-- Parallel Transformer 3\n",
    "                ('standardscaler', StandardScaler()),  #-- Parallel Transformer 4\n",
    "                ('normalize', Normalizer())])),#-- Parallel Transformer 5\n",
    "                     ('feature_select', RFE(estimator = model, n_features_to_select=1)), #-- Pipe Transformer 6\n",
    "                     ('PCA', PCA(n_components=1)), #-- Pipe Transformer 7\n",
    "            (\"LDA\", LinearDiscriminantAnalysis()), #-- Pipe Transformer 8\n",
    "            #('classifier', model), \t      #-- Pipe Classifier/Predictor 9\n",
    "('voting', RandomForestClassifier(n_estimators=10))]) \t      #-- Pipe Classifier/Predictor 10\n",
    "\n",
    "joblib.dump(sklearn_pipeline , 'models/ml_pipeline.pkl')"
   ]
  },
  {
   "cell_type": "code",
   "execution_count": 2,
   "metadata": {},
   "outputs": [
    {
     "data": {
      "text/plain": [
       "<mlpipeline_analyzer.visualizer.PipelineDiagram.PipelineDiagram at 0x1e3b2bdfd30>"
      ]
     },
     "execution_count": 2,
     "metadata": {},
     "output_type": "execute_result"
    }
   ],
   "source": [
    "a = PipelineDiagram(joblib.load('models/ml_pipeline.pkl'))\n",
    "a.show()\n",
    "a.show_params()"
   ]
  },
  {
   "cell_type": "code",
   "execution_count": 3,
   "metadata": {},
   "outputs": [
    {
     "data": {
      "text/plain": [
       "<mlpipeline_analyzer.visualizer.PipelineDiagram.PipelineDiagram at 0x1e3b39c3e80>"
      ]
     },
     "execution_count": 3,
     "metadata": {},
     "output_type": "execute_result"
    }
   ],
   "source": [
    "b = PipelineDiagram(joblib.load('models/automl_pipeline.pkl'))\n",
    "b.show()\n",
    "b.show_params()"
   ]
  },
  {
   "cell_type": "code",
   "execution_count": 76,
   "metadata": {},
   "outputs": [],
   "source": [
    "from evalml.automl import AutoMLSearch\n",
    "import evalml\n",
    "X, y = evalml.demos.load_breast_cancer()\n",
    "X_train, X_test, y_train, y_test = evalml.preprocessing.split_data(X, y, problem_type='binary')\n",
    "automl = AutoMLSearch(X_train=X_train, y_train=y_train, problem_type='binary')\n",
    "automl.search()\n",
    "pipeline = automl.best_pipeline\n",
    "a = PipelineDiagram(pipeline)\n",
    "a.show()\n",
    "a.show_params()"
   ]
  }
 ],
 "metadata": {
  "interpreter": {
   "hash": "2602d35bf45e5a21f7fcd63070615fa2c14a85edb77c6a8f46663af732603194"
  },
  "kernelspec": {
   "display_name": "Python 3.8.8 64-bit ('base': conda)",
   "language": "python",
   "name": "python3"
  },
  "language_info": {
   "codemirror_mode": {
    "name": "ipython",
    "version": 3
   },
   "file_extension": ".py",
   "mimetype": "text/x-python",
   "name": "python",
   "nbconvert_exporter": "python",
   "pygments_lexer": "ipython3",
   "version": "3.8.8"
  },
  "orig_nbformat": 4
 },
 "nbformat": 4,
 "nbformat_minor": 2
}
